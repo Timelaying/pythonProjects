{
 "cells": [
  {
   "cell_type": "code",
   "execution_count": null,
   "id": "recognized-halloween",
   "metadata": {
    "tags": []
   },
   "outputs": [],
   "source": [
    "#SKYSPORT NEWS BOT...\n",
    "#importing request module.\n",
    "\n",
    "import yagmail #module for gmail request\n",
    "import requests\n",
    "from scrapy.selector import Selector\n",
    "\n",
    "#url, get_url are variables\n",
    "url = 'https://www.skysports.com/football/news'\n",
    "get_url = requests.get(url) # visisting the site\n",
    "links = Selector(text=get_url.text).css('.news-list__headline-link ::attr(href)').getall() #after checking the response.css in scrapy shell, we use Selector(text=variable.text).css('blalbla used in scrapy shell')\n",
    "#.text makes the Selector request for the HTML page, .css search for the class & attributes with those names \n",
    "#using a for statment to loop through (for each links in all the links)\n",
    "for link in links:\n",
    "    get_page = requests.get(link) #(get each link) because it is in the for statement\n",
    "    get_article = Selector(text =get_page.text).css('.sdc-article-header__titles ::text').getall() + Selector(text =get_page.text).css('.sdc-article-body.sdc-article-body--lead p::text').getall()\n",
    "    #we use + to select two classes(concatinate in a way), in the case, the first selector was for the head, the second selector was for the body\n",
    "    # the p is to specify paragraph text element\n",
    "    #scrapy is a bastard thst doesent allow two class in in a selector, so we went to Stackoverflow, and above is the right way to select two classes\n",
    "\n",
    "    #get_article = Selector(text =get_page.text).css('.sdc-article-body.sdc-article-body--lead p::text').getall() #for body\n",
    "    #get_article_header = Selector(text =get_page.text).css('.sdc-article-header__titles ::text').getall() # header for he\n",
    "    \n",
    "    email_content = ''.join(get_article) # assigning email_content to the get_article scrapped. to be used as content to be sent\n",
    "    \n",
    "    try:\n",
    "        yag = yagmail.SMTP(user = 'makanjuola.timi@gmail.com', password='') #sender Credentials\n",
    "        #yag.send(to='makanjuolaemma81@gmail.com', subject = 'Skysport Werey news', contents = email_content) #reciever and contents of message\n",
    "        print('werey have almost killed me')\n",
    "    except Exception:\n",
    "        print('oloriburuku still get error')\n",
    "    \n",
    "    \n",
    "    "
   ]
  },
  {
   "cell_type": "code",
   "execution_count": null,
   "id": "instrumental-bargain",
   "metadata": {
    "jupyter": {
     "source_hidden": true
    },
    "tags": []
   },
   "outputs": [],
   "source": [
    "#Punch website\n",
    "import yagmail\n",
    "import requests\n",
    "from scrapy.selector import Selector\n",
    "\n",
    "url = 'https://punchng.com/topics/news/'\n",
    "get_url = requests.get(url)\n",
    "links=Selector(text=get_url.text).css('.entry-title ::attr(href)').getall()\n",
    "for link in links:\n",
    "    visit_link = requests.get(link)\n",
    "    article_content = Selector(text=visit_link.text).css('.entry-header h1::text').getall() + Selector(text=visit_link.text).css('.entry-content p::text').getall()\n",
    "    email_content = ''.join(article_content)\n",
    "    \n",
    "    #print(email_content)\n",
    "    \n",
    "    try:\n",
    "        yag = yagmail.SMTP(user = 'makanjuola.timi@gmail.com', password = 'johnnycage')\n",
    "        yag.send(to = 'kunle.makanjuola@yahoo.com', cc = 'makanjuolaemma81@gmail.com', subject = 'Punch news', contents = email_content) # cc is carbon copy\n",
    "        print('Sent sucessfully')\n",
    "    except Exception:\n",
    "        print('i am gonna kill the bug')"
   ]
  },
  {
   "cell_type": "code",
   "execution_count": 40,
   "id": "understanding-determination",
   "metadata": {
    "collapsed": true,
    "jupyter": {
     "outputs_hidden": true,
     "source_hidden": true
    },
    "tags": []
   },
   "outputs": [
    {
     "data": {
      "image/png": "[encoded data removed]",
      "text/plain": [
       "<Figure size 432x288 with 1 Axes>"
      ]
     },
     "metadata": {},
     "output_type": "display_data"
    },
    {
     "data": {
      "text/html": [
       "<div>\n",
       "<style scoped>\n",
       "    .dataframe tbody tr th:only-of-type {\n",
       "        vertical-align: middle;\n",
       "    }\n",
       "\n",
       "    .dataframe tbody tr th {\n",
       "        vertical-align: top;\n",
       "    }\n",
       "\n",
       "    .dataframe thead th {\n",
       "        text-align: right;\n",
       "    }\n",
       "</style>\n",
       "<table border=\"1\" class=\"dataframe\">\n",
       "  <thead>\n",
       "    <tr style=\"text-align: right;\">\n",
       "      <th></th>\n",
       "      <th>player Name</th>\n",
       "      <th>gc</th>\n",
       "    </tr>\n",
       "  </thead>\n",
       "  <tbody>\n",
       "    <tr>\n",
       "      <th>1</th>\n",
       "      <td>wener</td>\n",
       "      <td>14</td>\n",
       "    </tr>\n",
       "    <tr>\n",
       "      <th>2</th>\n",
       "      <td>mount</td>\n",
       "      <td>11</td>\n",
       "    </tr>\n",
       "    <tr>\n",
       "      <th>0</th>\n",
       "      <td>jorginho</td>\n",
       "      <td>8</td>\n",
       "    </tr>\n",
       "    <tr>\n",
       "      <th>3</th>\n",
       "      <td>abraham</td>\n",
       "      <td>7</td>\n",
       "    </tr>\n",
       "    <tr>\n",
       "      <th>4</th>\n",
       "      <td>zouma</td>\n",
       "      <td>5</td>\n",
       "    </tr>\n",
       "  </tbody>\n",
       "</table>\n",
       "</div>"
      ],
      "text/plain": [
       "  player Name  gc\n",
       "1       wener  14\n",
       "2       mount  11\n",
       "0    jorginho   8\n",
       "3     abraham   7\n",
       "4       zouma   5"
      ]
     },
     "execution_count": 40,
     "metadata": {},
     "output_type": "execute_result"
    }
   ],
   "source": [
    "import numpy as np\n",
    "import pandas as pd\n",
    "import matplotlib.pyplot as plt\n",
    "\n",
    "stats = pd.read_csv('chelsea_2020stats.csv')\n",
    "stats['gc'] = stats[' goals'] + stats[' assits'] # intializing a new column in stats as [gc] and assinging value to it, ***it is important to assingn value \n",
    "#sorting the values by coulmn gc(goal conribution)\n",
    "stats.sort_values('gc',inplace=True, ascending=False) #inplace = True, makes the change active on the current DataFrame, ascending=False makes the arrangment accending\n",
    "\n",
    "stats = stats[['player Name', 'gc']] #defining the columns to be ploted...\n",
    "color_cycle = ['red', 'blue', 'green', 'yellow','orange'] #listing colours to use..\n",
    "plt.pie(stats['gc'], labels=list(stats['player Name']), shadow= False,\n",
    "        radius=2.8, textprops={'fontsize': 14}, startangle=90,\n",
    "        explode=[0,0,0,0,0], colors=color_cycle, autopct= lambda x: f\"{x:.1f}%\") # everything in this bracket is plotlib snytax and all, explode[0,0,0,0,0], the zeros are important (i.e to represent) the five(5) values we want to use on the pie chart.\n",
    "plt.show() # to display the pie chart\n",
    "stats.columns # to show the list of columns in form of an array\n",
    "stats['player Name'] # shows only column player Names\n",
    "stats"
   ]
  },
  {
   "cell_type": "code",
   "execution_count": null,
   "id": "protective-vintage",
   "metadata": {
    "jupyter": {
     "source_hidden": true
    },
    "tags": []
   },
   "outputs": [],
   "source": [
    "#using streamlit, i.e making the app run as a website(web app)\n",
    "import numpy as np\n",
    "import pandas as pd\n",
    "import matplotlib.pyplot as plt\n",
    "import streamlit as st    #importing streamlit\n",
    "\n",
    "st.title('Timmies\\s Chelsea stats web app')   #\n",
    "stats = pd.read_csv('chelsea_2020stats.csv')\n",
    "stats['gc'] = stats[' goals'] + stats[' assits']\n",
    "stats.sort_values('gc', inplace =True, ascending=False)\n",
    "\n",
    "stats = stats[['player Name', 'gc']]\n",
    "fig, ax = plt.subplots()   #indicating that fig is the figure to be ploted.\n",
    "color_cycle = ['red', 'blue', 'green', 'yellow','orange']\n",
    "plt.pie(stats['gc'], labels=list(stats['player Name']), shadow = False, radius= 2.8, textprops={'fontsize': 14},\n",
    "        startangle=90, explode=[0,0,0,0,0], colors=color_cycle, autopct= lambda x: f\"{x:.1f}%\")\n",
    "st.pyplot(fig)   #passing the figure to show as a chart\n"
   ]
  },
  {
   "cell_type": "code",
   "execution_count": null,
   "id": "generic-episode",
   "metadata": {
    "jupyter": {
     "source_hidden": true
    },
    "tags": []
   },
   "outputs": [],
   "source": [
    "#Natural Language Processing, using textblob library\n",
    "from textblob.classifiers import NaiveBayesClassifier\n",
    "\n",
    "#import nltk\n",
    "#nltk.download('punkt')\n",
    "\n",
    "#The two line above in comments is needed with internet connection after that you can off the internet...\n",
    "\n",
    "train = [\n",
    "    ('the place is awesome', 'pos'),\n",
    "    ('they serve the best dishes', 'pos'),\n",
    "    ('good customer service', 'pos'),\n",
    "    ('the food taste very nice', 'pos'),\n",
    "    ('the food are tasty', 'pos'),\n",
    "    ('a great place to relax', 'pos'),\n",
    "    \n",
    "    ('the food is terrible', 'neg'),\n",
    "    ('the place has bad customer service', 'neg'),\n",
    "    ('the place atmosphere was bad', 'neg'),\n",
    "    ('the menu are bad', 'neg'),\n",
    "    ('the waiters delay the food', 'neg'),\n",
    "    ('the food are too spicey', 'neg')\n",
    "]\n",
    "\n",
    "test = [\n",
    "    ('the amtosphere was nice', 'pos'),\n",
    "    ('the staffs were friendly', 'pos'),\n",
    "    ('the chicken was soft', 'pos'),\n",
    "    \n",
    "    ('it wasnt a good experience', 'neg'),\n",
    "    ('the food is blad', 'neg'),\n",
    "    ('the desert was too small', 'neg')\n",
    "]\n",
    "\n",
    "cl = NaiveBayesClassifier(train)\n",
    "cl.classify(\"the food is good\") #An example to use to test the classifier\n",
    "cl.accuracy(test) #To test for the accuracy of the model gan gan\n",
    "cl.classify('the customer service is good')\n"
   ]
  },
  {
   "cell_type": "code",
   "execution_count": null,
   "id": "inner-expression",
   "metadata": {
    "jupyter": {
     "source_hidden": true
    },
    "tags": []
   },
   "outputs": [],
   "source": [
    "#cl.classify(\"the meal was good\")\n",
    "#import nltk\n",
    "#nltk.download('punkt') \n",
    "\n",
    "#this is used to download the classifier only once."
   ]
  },
  {
   "cell_type": "code",
   "execution_count": null,
   "id": "prescribed-sigma",
   "metadata": {
    "jupyter": {
     "source_hidden": true
    },
    "tags": []
   },
   "outputs": [],
   "source": [
    "#PYTHON MACHINE LEARNING(DATA SCIENCE)  a small refresh\n",
    "import pandas as pd\n",
    "\n",
    "df = pd.read_csv('vgsales.csv')\n",
    "df.shape #shape of row and colums\n",
    "df.describe()  # for statistical infrormation on the data columb\n",
    "df.values #values of each row put into an array"
   ]
  },
  {
   "cell_type": "code",
   "execution_count": null,
   "id": "immediate-newport",
   "metadata": {
    "jupyter": {
     "source_hidden": true
    },
    "tags": []
   },
   "outputs": [],
   "source": [
    "#PYTHON MACHINE LEARNING(DATA SCIENCE)\n",
    "import pandas as pd\n",
    "from sklearn.tree import DecisionTreeClassifier\n",
    "\n",
    "music_data = pd.read_csv('music.csv')\n",
    "#we want to split the data set into input and output data.input(age & gender), output(genre)... we use input to predict output.\n",
    "\n",
    "X = music_data.drop(columns = ['genre']) #creating a new data set without genre. i.e input data\n",
    "#we use capital (X) by covention for our input data\n",
    "y = music_data['genre'] # to get the genre column\n",
    "#we use small (y) by convention to represent output/expectation/prediction.\n",
    "\n",
    "model = DecisionTreeClassifier() # creating an instance of decision tree\n",
    "model.fit(X, y) #training the model to learn pattern from the data, i.e comparing input to output.\n",
    "prediction = model.predict([[21, 1], [22, 0]]) #to predict\n",
    "prediction \n",
    "#prediction = model.predict([[21, 1]]) # to predict for one i.e male"
   ]
  },
  {
   "cell_type": "code",
   "execution_count": null,
   "id": "guilty-hypothesis",
   "metadata": {
    "jupyter": {
     "source_hidden": true
    },
    "tags": []
   },
   "outputs": [],
   "source": [
    "#PYTHON MACHINE LEARNING(DATA SCIENCE)\n",
    "#MEASURING THE ACCURACY OF THE PRDICTION MODEL\n",
    "#to do this we need to split our data into two set, one for training and the other for testing\n",
    "\n",
    "import pandas as pd\n",
    "from sklearn.tree import DecisionTreeClassifier\n",
    "from sklearn.model_selection import train_test_split #to split the data into train and test\n",
    "from sklearn.metrics import accuracy_score    # to check accuracy\n",
    "\n",
    "music_data = pd.read_csv('music.csv')\n",
    "X = music_data.drop(columns = ['genre'])\n",
    "y = music_data['genre']\n",
    "\n",
    "X_train, X_test, y_train, y_test = train_test_split(X, y, test_size=0.2) #0.2 for 20% test size\n",
    "\n",
    "model = DecisionTreeClassifier()\n",
    "model.fit(X_train, y_train)\n",
    "prediction = model.predict(X_test)\n",
    "\n",
    "score = accuracy_score(y_test, prediction)\n",
    "score"
   ]
  },
  {
   "cell_type": "code",
   "execution_count": null,
   "id": "naked-illustration",
   "metadata": {
    "jupyter": {
     "source_hidden": true
    },
    "tags": []
   },
   "outputs": [],
   "source": [
    "#PYTHON MACHINE LEARNING(DATA SCIENCE)\n",
    "#Persisting a model... dumping/loading the model...\n",
    "\n",
    "import pandas as pd\n",
    "from sklearn.tree import DecisionTreeClassifier\n",
    "import joblib #for saving and loadin modules\n",
    "\n",
    "music_data = pd.read_csv('music.csv')\n",
    "X = music_data.drop(columns = ['genre'])\n",
    "y = music_data['genre'] \n",
    "\n",
    "model = DecisionTreeClassifier()\n",
    "model.fit(X, y) \n",
    "\n",
    "joblib.dump(model, 'music-recommender.joblib')\n",
    "\n",
    "#prediction = model.predict([[21, 1], [22, 0]])"
   ]
  },
  {
   "cell_type": "code",
   "execution_count": null,
   "id": "twenty-mixture",
   "metadata": {
    "jupyter": {
     "source_hidden": true
    },
    "tags": []
   },
   "outputs": [],
   "source": [
    "#PYTHON MACHINE LEARNING(DATA SCIENCE)\n",
    "#Persisting a model... loading the model\n",
    "\n",
    "import pandas as pd\n",
    "from sklearn.tree import DecisionTreeClassifier\n",
    "import joblib #for saving and loadin modules\n",
    "\n",
    "# music_data = pd.read_csv('music.csv')\n",
    "# X = music_data.drop(columns = ['genre'])\n",
    "# y = music_data['genre'] \n",
    "\n",
    "# model = DecisionTreeClassifier()\n",
    "# model.fit(X, y)    \n",
    "\n",
    "#after you highlight what you want to comment, just press ctrl + / to comment it \n",
    "\n",
    "model = joblib.load('music-recommender.joblib')\n",
    "prediction = model.predict([[21, 1]])\n",
    "prediction  "
   ]
  },
  {
   "cell_type": "code",
   "execution_count": null,
   "id": "killing-maryland",
   "metadata": {
    "jupyter": {
     "source_hidden": true
    },
    "tags": []
   },
   "outputs": [],
   "source": [
    "#PYTHON MACHINE LEARNING(DATA SCIENCE)\n",
    "#Visuallizing the Decision Tree\n",
    "\n",
    "import pandas as pd\n",
    "from sklearn.tree import DecisionTreeClassifier\n",
    "from sklearn import tree #for visualization\n",
    "\n",
    "music_data = pd.read_csv('music.csv')\n",
    "X = music_data.drop(columns = ['genre'])\n",
    "y = music_data['genre'] \n",
    "\n",
    "model = DecisionTreeClassifier()\n",
    "model.fit(X, y) \n",
    "\n",
    "#the .dot format is a graph description language\n",
    "tree.export_graphviz(model, out_file='music-recommender.dot',\n",
    "                    feature_names=['age','gender'],\n",
    "                    class_names=sorted(y.unique()),\n",
    "                    label='all',\n",
    "                    rounded=True,\n",
    "                    filled=True)"
   ]
  },
  {
   "cell_type": "code",
   "execution_count": null,
   "id": "welsh-script",
   "metadata": {
    "jupyter": {
     "source_hidden": true
    },
    "tags": []
   },
   "outputs": [],
   "source": [
    "#PYTHON MACHINE LEARNING\n",
    "#DT with input\n",
    "import pandas as pd\n",
    "from sklearn.tree import DecisionTreeClassifier\n",
    "\n",
    "music_data = pd.read_csv('music.csv')\n",
    "X = music_data.drop(columns = ['genre'])\n",
    "y = music_data['genre'] \n",
    "\n",
    "model = DecisionTreeClassifier()\n",
    "model.fit(X, y) \n",
    "\n",
    "print('enter age')\n",
    "a = input()\n",
    "#print(a)\n",
    "print('enter gender')\n",
    "b = input()\n",
    "\n",
    "specific_prediction = model.predict([[a,b]])\n",
    "specific_prediction\n",
    "# prediction = model.predict([[21, 1], [22, 0]])\n",
    "# prediction "
   ]
  },
  {
   "cell_type": "code",
   "execution_count": null,
   "id": "innocent-poker",
   "metadata": {
    "jupyter": {
     "source_hidden": true
    },
    "tags": []
   },
   "outputs": [],
   "source": [
    "# PLOTTING DATA ON A GRAPH USING MATPLOTLIB(BASIC)\n",
    "import matplotlib.pyplot as plt\n",
    "x= [i for i in range(10)] #array of 10 elements\n",
    "y= [2*i for i in range(10)] #all elements *2\n",
    "\n",
    "plt.plot(x,y) #plots the graph\n",
    "plt.xlabel('x-axis') #normal convention naming\n",
    "plt.ylabel('double axis') #the label worked \n"
   ]
  },
  {
   "cell_type": "code",
   "execution_count": 67,
   "id": "distributed-arnold",
   "metadata": {
    "collapsed": true,
    "jupyter": {
     "outputs_hidden": true,
     "source_hidden": true
    },
    "tags": []
   },
   "outputs": [
    {
     "name": "stdout",
     "output_type": "stream",
     "text": [
      "     rating\n",
      "4.0   28750\n",
      "3.0   20064\n",
      "5.0   15095\n",
      "3.5   10538\n",
      "4.5    7723\n",
      "2.0    7271\n",
      "2.5    4449\n",
      "1.0    3326\n",
      "1.5    1687\n",
      "0.5    1101\n"
     ]
    },
    {
     "data": {
      "image/png": "[encoded data removed]",
      "text/plain": [
       "<Figure size 432x288 with 1 Axes>"
      ]
     },
     "metadata": {},
     "output_type": "display_data"
    }
   ],
   "source": [
    "# PLOTTING DATA ON A GRAPH USING MATPLOTLIB(BASIC) USING MOVIES RATINGS\n",
    "import matplotlib.pyplot as plt\n",
    "import numpy as np\n",
    "import pandas as pd\n",
    "\n",
    "ratin = pd.read_csv('ratings_smalli.csv')\n",
    "i2p5 = ratin[ratin.rating == 2.5]\n",
    "i2 = ratin[ratin.rating == 2]\n",
    "i3 = ratin[ratin.rating == 3]\n",
    "i4 = ratin[ratin.rating == 4]\n",
    "z = ratin['rating'].value_counts() #To help sort out distinct values \n",
    "newz = pd.DataFrame(z)\n",
    "print(newz)\n",
    "newz.rename(columns ={'':'ratings', 'rating':'amount'}, inplace = True) #name column\n",
    "label = ['4', '3','5','3.5','4.5','2','2.5','1','1.5','0.5']\n",
    "label\n",
    "\n",
    "color_cycle = ['red', 'blue', 'green', 'yellow','orange','pink','black','cyan','brown','gray'] #listing colours to use..\n",
    "plt.pie(newz['amount'], labels=list(label), shadow= False,\n",
    "        radius=2.8, textprops={'fontsize': 14}, startangle=90,\n",
    "        explode=[0,0,0,0,0,0,0,0,0,0], colors=color_cycle, autopct= lambda x: f\"{x:.1f}%\") # everything in this bracket is plotlib snytax and all, explode[0,0,0,0,0], the zeros are important (i.e to represent) the five(5) values we want to use on the pie chart.\n",
    "plt.show() # to display the pie chart\n",
    "\n",
    "\n",
    "\n",
    "\n",
    "#plt.plot(rating['movieId'], rating['rating'],'o')\n",
    "#plt.xlabel('movies') #normal convention naming\n",
    "#plt.ylabel('ratings')\n",
    "#plt.show()"
   ]
  },
  {
   "cell_type": "code",
   "execution_count": null,
   "id": "overhead-scientist",
   "metadata": {
    "tags": []
   },
   "outputs": [],
   "source": [
    "plt.scatter(x,y) #shows data pionts"
   ]
  },
  {
   "cell_type": "code",
   "execution_count": null,
   "id": "sufficient-recording",
   "metadata": {
    "jupyter": {
     "source_hidden": true
    },
    "tags": []
   },
   "outputs": [],
   "source": [
    "#TRAIN TEST SPLIT\n",
    "from sklearn import datasets #generate dataset\n",
    "import numpy as np\n",
    "from sklearn.model_selection import train_test_split\n",
    "\n",
    "iris = datasets.load_iris() # i think loads data set\n",
    "\n",
    "#split data in features and labels\n",
    "X = iris.data   #features\n",
    "y = iris.target #labels\n",
    "\n",
    "#print(X,y)\n",
    "print(X.shape)\n",
    "print(y.shape)\n",
    "\n",
    "X_train, X_test, y_train, y_test = train_test_split(X,y,test_size = 0.2)\n",
    "print(X_train.shape)\n",
    "print(X_test.shape)\n",
    "print(y_train.shape)\n",
    "print(y_test.shape)"
   ]
  },
  {
   "cell_type": "code",
   "execution_count": null,
   "id": "circular-editing",
   "metadata": {
    "jupyter": {
     "source_hidden": true
    },
    "tags": []
   },
   "outputs": [],
   "source": [
    "# KNN(K-Nearest Neighbor), Re-Label & Mapping Example\n",
    "import numpy as np\n",
    "import pandas as pd\n",
    "from sklearn import neighbors, metrics   # for KNN and Metrics(accuracy) \n",
    "from sklearn.model_selection import train_test_split\n",
    "from sklearn.preprocessing import LabelEncoder     #to relabel stings to intigers\n",
    "import matplotlib.pyplot as plt\n",
    "\n",
    "data = pd.read_csv('car.data')\n",
    "# print(data.head())  prints the head, like the first four elements\n",
    "\n",
    "X = data[['buying','maint','safety']].values # we are using .values because the data here are strings, that will later be converted to intergers using LabelEncoding\n",
    "y = data[['class']]  #the [[]] makes it more arranged\n",
    "\n",
    "#print(X,y)\n",
    "\n",
    "#since we are using a classification algorithm, it does not accept strings so we have to change most of the labels that have string data values to numbers.\n",
    "#converting data(we try two differeents style for X and y)\n",
    "#converting X\n",
    "Le = LabelEncoder()         #calling the LebelEncoder with assigned variable Le\n",
    "for i in range(len(X[0])):   #X[0] is simply 3 for x columns(default stuffs)\n",
    "    X[:, i] = Le.fit_transform(X[:, i])   #covert each string data by '1'\n",
    "    \n",
    "# print(X)\n",
    "\n",
    "#converting y (using label mapping conversion)\n",
    "label_mapping = {\n",
    "    'unacc':0,\n",
    "    'acc':1,\n",
    "    'good':2,\n",
    "    'vgood':3\n",
    "    \n",
    "}\n",
    "\n",
    "y['class'] = y['class'].map(label_mapping)\n",
    "y = np.array(y)  #this helps put y back in an array, beacuse after the mapping data might scatter.\n",
    "# y\n",
    "\n",
    "#creating the KNN model\n",
    "knn = neighbors.KNeighborsClassifier(n_neighbors=25, weights='uniform')   #the KNN model, n_neighbors is 'k'\n",
    "X_train,X_test,y_train,y_test = train_test_split(X,y, test_size=0.2)      #spliting data and selecting test size\n",
    "knn.fit(X_train,y_train) #input and output data for the knn model.\n",
    "prediction = knn.predict(X_test)   #predict test data\n",
    "\n",
    "# superx = knn.predict([[1,1,3]])\n",
    "# superx     to predict index 20\n",
    "\n",
    "accuracy = metrics.accuracy_score(y_test, prediction)\n",
    "print('prediction:', prediction)\n",
    "print('accuracy:', accuracy)\n",
    "\n",
    "print('actual value:', y[20])   #because we use numpy np.array that is why we can use index here\n",
    "print('predicted value:', knn.predict(X)[20])   #to predict the values on index 20, this is also a way to test the model.\n",
    "\n",
    "plt.plot(X,y)"
   ]
  },
  {
   "cell_type": "code",
   "execution_count": null,
   "id": "elementary-nepal",
   "metadata": {
    "jupyter": {
     "source_hidden": true
    },
    "tags": []
   },
   "outputs": [],
   "source": [
    "#SVM\n",
    "from sklearn import datasets #generate dataset\n",
    "import numpy as np\n",
    "from sklearn.model_selection import train_test_split\n",
    "from sklearn import svm     #for svm library\n",
    "from sklearn.metrics import accuracy_score\n",
    "\n",
    "iris = datasets.load_iris() # i think loads dataset, the iris dataset is a classic dataset\n",
    "\n",
    "#split data in features and labels\n",
    "X = iris.data   #features\n",
    "y = iris.target #labels\n",
    "\n",
    "classes = ['Iris Setosa','Iris Versicolour','Iris Virginica']\n",
    "\n",
    "#print(X,y)\n",
    "print(X.shape)\n",
    "print(y.shape)\n",
    "\n",
    "X_train, X_test, y_train, y_test = train_test_split(X,y,test_size = 0.2)\n",
    "\n",
    "model = svm.SVC() #.SVC is Support Vector Classicfication \n",
    "model.fit(X_train,y_train)\n",
    "prediction = model.predict(X_test)\n",
    "acc = accuracy_score(y_test,prediction)\n",
    "\n",
    "prediction\n",
    "acc\n",
    "\n",
    "#to assign name to the predicted outputs\n",
    "for i in range(len(prediction)):\n",
    "    print(classes[prediction[i]])  #prints the name in the order"
   ]
  },
  {
   "cell_type": "code",
   "execution_count": null,
   "id": "surgical-sandwich",
   "metadata": {
    "jupyter": {
     "source_hidden": true
    },
    "tags": []
   },
   "outputs": [],
   "source": [
    "#Linear Regression\n",
    "from sklearn import datasets\n",
    "from sklearn import linear_model\n",
    "from sklearn.model_selection import train_test_split\n",
    "from matplotlib import pyplot as plt\n",
    "\n",
    "boston = datasets.load_boston()\n",
    "\n",
    "#features/attributes & label\n",
    "X = boston.data\n",
    "y = boston.target\n",
    "\n",
    "#Linear Regression model algorithm\n",
    "model = linear_model.LinearRegression()\n",
    "plt.scatter(X.T[5],y) # only for the first intance of data\n",
    "plt.show\n",
    "\n",
    "X_train, X_test, y_train, y_test = train_test_split(X,y,test_size = 0.2)\n",
    "\n",
    "#train\n",
    "model.fit(X_train, y_train)\n",
    "prediction = model.predict(X_test)\n",
    "\n",
    "print('prediction:', prediction)\n",
    "print('R^2 value:', model.score(X, y))# R^2 accuracy score for regression\n",
    "print('coeffiecient factor:', model.coef_)# more like the slope\n",
    "print('intercept:', model.intercept_)# "
   ]
  },
  {
   "cell_type": "code",
   "execution_count": null,
   "id": "extreme-bloom",
   "metadata": {
    "jupyter": {
     "source_hidden": true
    },
    "tags": []
   },
   "outputs": [],
   "source": [
    "#KMeans \n",
    "from sklearn.datasets import load_breast_cancer\n",
    "from sklearn.cluster import KMeans   #KMeans model\n",
    "from sklearn.model_selection import train_test_split\n",
    "from sklearn.metrics import accuracy_score\n",
    "from sklearn.preprocessing import scale #help scale and clean data to be more presentable\n",
    "import pandas as pd\n",
    "\n",
    "bc = load_breast_cancer()\n",
    "#we use small 'x' beacuse we are using clustering groups.\n",
    "x = scale(bc.data)    #using scale to clean data\n",
    "y = bc.target\n",
    "\n",
    "x_train, x_test, y_train, y_test = train_test_split(x,y, test_size=6)\n",
    "model = KMeans(n_clusters=2, random_state=0) # cluster is the number of centroid, the random state = 0 makes it random unlike we affixing a number.\n",
    "model.fit(x_train) #we dont pass in a 'y', becuase this is clustering, the algorithm does the separation\n",
    "predictions = model.predict(x_test)\n",
    "accuracy = accuracy_score(y_test, predictions)\n",
    "\n",
    "labels = model.labels_    #to give labels/ keep track of labels\n",
    "\n",
    "print('labels:', labels)\n",
    "print('predictions:', predictions)\n",
    "print('accuracy', accuracy)\n",
    "print('actual values:', y_test)\n",
    "\n",
    "#fix the bench k_means later.\n",
    " "
   ]
  },
  {
   "cell_type": "code",
   "execution_count": null,
   "id": "marked-teacher",
   "metadata": {
    "jupyter": {
     "source_hidden": true
    },
    "tags": []
   },
   "outputs": [],
   "source": [
    "#Handwritting Digit Recognizer\n",
    "from PIL import Image #for image\n",
    "import mnist    #The MNIST dataset is an acronym that stands for the Modified National Institute of Standards and Technology dataset. It is a dataset of 60,000 small square 28×28 pixel grayscale images of handwritten single digits between 0 and 9.8\n",
    "import numpy as np\n",
    "from sklearn.neural_network import MLPClassifier #MLPClassifier stands for Multi-layer Perceptron classifier\n",
    "from sklearn.metrics import confusion_matrix\n",
    "\n",
    "\n",
    "#creating training variables\n",
    "#for training\n",
    "x_train = mnist.train_images()\n",
    "y_train = mnist.train_labels()\n",
    "\n",
    "#for testing\n",
    "x_test = mnist.test_images()\n",
    "y_test = mnist.test_labels()\n",
    "\n",
    "print(x_train.ndim)\n",
    "\n",
    "print('x_train:', x_train)\n",
    "print('x_test:', x_test)\n",
    "print('y_train:', y_train)\n",
    "print('y_test:', y_test)"
   ]
  },
  {
   "cell_type": "code",
   "execution_count": null,
   "id": "bright-sigma",
   "metadata": {
    "jupyter": {
     "source_hidden": true
    },
    "tags": []
   },
   "outputs": [],
   "source": [
    "#note\n",
    "# Neural Neteworks works better with number rangingfrom 0-1 so we scale down our dataset\n",
    "x_train = (x_train/256)\n",
    "x_test = (x_test/256)"
   ]
  },
  {
   "cell_type": "code",
   "execution_count": null,
   "id": "alert-concentration",
   "metadata": {
    "jupyter": {
     "source_hidden": true
    },
    "tags": []
   },
   "outputs": [],
   "source": [
    "#TensorFlow crash course...(neural network)\n",
    "import tensorflow as tf\n",
    "from tensorflow import keras #it is a API from tensorflow thst does a lot of work for us and make us write less code\n",
    "import numpy as np\n",
    "import matplotlib.pyplot as plt\n",
    "\n",
    "data = keras.datasets.fashion_mnist #a dataset inside keras we will be using in the future\n",
    "#slipting data\n",
    "(train_images, train_labels), (test_images, test_labels) = data.load_data()\n",
    "\n",
    "#creating list for the labels\n",
    "class_names = ['T-shirt/top', 'Trouser', 'Pullover', 'Dress', 'Coat',\n",
    "               'Sandal', 'Shirt', 'Sneaker', 'Bag', 'Ankle boot']\n",
    "\n",
    "#scaling down our data\n",
    "train_images = train_images/255\n",
    "test_images = test_images/255\n",
    "\n",
    "# print(train_images[7])  #prints the array value of image\n",
    "\n",
    "#images are in 28 by 28\n",
    "# plt.imshow(train_images[7], cmap=plt.cm.binary)   # to display image\n",
    "# plt.show()\n",
    "# print(train_labels[0]) the labels are within 0 and 9\n",
    "\n",
    "\n",
    "#creating a model\n",
    "model = keras.Sequential([\n",
    "    keras.layers.Flatten(input_shape=(28,28)),\n",
    "    keras.layers.Dense(128, activation=\"relu\"),\n",
    "    keras.layers.Dense(10, activation=\"softmax\")\n",
    "])\n",
    "#setting some parameters\n",
    "model.compile(optimizer=\"adam\", loss = \"sparse_categorical_crossentropy\", metrics=[\"accuracy\"])\n",
    "\n",
    "model.fit(train_images, train_labels, epochs=5) #epochs means the number of times a particular data is seen, so as to create a consistency after a pattern or a particular data is seen, to sort get more accuracy\n",
    "#more epochs dosent necesarry mean more accuracy but we can tweak it\n",
    "\n",
    "test_loss, test_acc = model.evaluate(test_images, test_labels)\n",
    "\n",
    "print('test acc:', test_acc)\n",
    "\n",
    "\n",
    "#using model to make prediction\n",
    "prediction = model.predict(test_images)\n",
    "\n",
    "#checking for validation\n",
    "for i in range(5):\n",
    "    plt.grid(False)   #see image\n",
    "    plt.imshow(test_images[i], cmap=plt.cm.binary) #show image\n",
    "    plt.xlabel('actual:' + class_names[test_labels[i]]) #for actual ouptut\n",
    "    plt.title('prediction:' + class_names[np.argmax(prediction[i])]) #for predicited output\n",
    "    plt.show()\n",
    "# print(\"prediction:\", class_names[np.argmax(prediction[0])])#np.argmax takes the highest number, and put it in the label class_name"
   ]
  },
  {
   "cell_type": "code",
   "execution_count": null,
   "id": "cultural-significance",
   "metadata": {
    "jupyter": {
     "source_hidden": true
    },
    "tags": []
   },
   "outputs": [],
   "source": [
    "#TensorFlow TextClassification\n",
    "import tensorflow as tf\n",
    "from tensorflow import keras\n",
    "import numpy as np\n",
    "\n",
    "data = keras.datasets.imdb\n",
    "(train_images, train_labels), (test_images, test_labels) = data.load_data(num_words=10000)#this means takes words that only occur 10000 or more times in the dataset, because of the large dataset\n",
    " \n"
   ]
  },
  {
   "cell_type": "code",
   "execution_count": null,
   "id": "stopped-stanley",
   "metadata": {},
   "outputs": [],
   "source": [
    "# BASIC MOBILE HELLO WORLD APP\n",
    "import sys\n",
    "from PyQt5.QtWidgets import QApplication, QWidget, QPushButton, QLabel\n",
    "\n",
    "# Create the application and the main window\n",
    "app = QApplication(sys.argv)\n",
    "window = QWidget()\n",
    "\n",
    "# Create a button and a text label\n",
    "button = QPushButton('Click me!')\n",
    "label = QLabel('Hello, world!')\n",
    "\n",
    "# Show the button and the text label in the main window\n",
    "window.show()\n",
    "button.show()\n",
    "label.show()\n",
    "\n",
    "# Start the application\n",
    "app.exec_()\n"
   ]
  },
  {
   "cell_type": "code",
   "execution_count": null,
   "id": "single-hierarchy",
   "metadata": {},
   "outputs": [],
   "source": []
  }
 ],
 "metadata": {
  "kernelspec": {
   "display_name": "Python 3",
   "language": "python",
   "name": "python3"
  },
  "language_info": {
   "codemirror_mode": {
    "name": "ipython",
    "version": 3
   },
   "file_extension": ".py",
   "mimetype": "text/x-python",
   "name": "python",
   "nbconvert_exporter": "python",
   "pygments_lexer": "ipython3",
   "version": "3.9.2"
  }
 },
 "nbformat": 4,
 "nbformat_minor": 5
}
